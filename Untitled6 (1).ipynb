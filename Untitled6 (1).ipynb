{
 "cells": [
  {
   "cell_type": "code",
   "execution_count": 1,
   "id": "0eafe28b-44bd-49e0-8d55-134f37f75db3",
   "metadata": {},
   "outputs": [],
   "source": [
    "sample_dict={'a':100,'b':2800,'c':300}"
   ]
  },
  {
   "cell_type": "code",
   "execution_count": 2,
   "id": "11515feb-5dc2-4517-9627-4ee94049b5f5",
   "metadata": {},
   "outputs": [
    {
     "data": {
      "text/plain": [
       "{'a': 100, 'b': 2800, 'c': 300}"
      ]
     },
     "execution_count": 2,
     "metadata": {},
     "output_type": "execute_result"
    }
   ],
   "source": [
    "sample_dict"
   ]
  },
  {
   "cell_type": "code",
   "execution_count": 3,
   "id": "b9dab139-7ad1-40dc-914c-337963e0eb63",
   "metadata": {},
   "outputs": [
    {
     "name": "stdout",
     "output_type": "stream",
     "text": [
      "2700\n"
     ]
    }
   ],
   "source": [
    "if 2700 in sample_dict.values():\n",
    "    print(\"values 2700 exists in the dictionary.\")\n",
    "else:\n",
    "    print(\"value 2700 does not exist in the dictionary.\")"
   ]
  },
  {
   "cell_type": "code",
   "execution_count": 12,
   "id": "1e9b45d2-bf60-480d-ae10-ee0775851576",
   "metadata": {},
   "outputs": [],
   "source": [
    "sample_set={\"surya\",\"Kapil\",\"MSD\"}\n",
    "         "
   ]
  },
  {
   "cell_type": "code",
   "execution_count": 13,
   "id": "07b6ec57-523d-4fff-a2b0-ed6a1b84e7d3",
   "metadata": {},
   "outputs": [
    {
     "data": {
      "text/plain": [
       "{'Kapil', 'MSD', 'surya'}"
      ]
     },
     "execution_count": 13,
     "metadata": {},
     "output_type": "execute_result"
    }
   ],
   "source": [
    "sample_set"
   ]
  },
  {
   "cell_type": "code",
   "execution_count": 9,
   "id": "380b4f67-c3fb-4edd-8e57-67a87e310553",
   "metadata": {},
   "outputs": [],
   "source": [
    "sample_list=[\"sachin\",\"siraj\",\"sehwag\"] "
   ]
  },
  {
   "cell_type": "code",
   "execution_count": 10,
   "id": "c0bf1230-3133-42e3-88f4-5d54da2051a0",
   "metadata": {},
   "outputs": [
    {
     "data": {
      "text/plain": [
       "['sachin', 'siraj', 'sehwag']"
      ]
     },
     "execution_count": 10,
     "metadata": {},
     "output_type": "execute_result"
    }
   ],
   "source": [
    "sample_list"
   ]
  },
  {
   "cell_type": "code",
   "execution_count": 14,
   "id": "0febd846-b20b-4a6d-a258-9aa88ec1a896",
   "metadata": {},
   "outputs": [
    {
     "name": "stdout",
     "output_type": "stream",
     "text": [
      "{'siraj', 'surya', 'MSD', 'Kapil', 'sachin', 'sehwag'}\n"
     ]
    }
   ],
   "source": [
    "sample_set.update(sample_list)\n",
    "\n",
    "print (sample_set)"
   ]
  },
  {
   "cell_type": "code",
   "execution_count": 15,
   "id": "d2299c3e-4684-48c4-93b9-ec1e8df7e38c",
   "metadata": {},
   "outputs": [],
   "source": [
    "sampledict={\n",
    "    \"country\":{\n",
    "        \"Indian Cricket Team\":{\n",
    "            \"Name\":[\"Rohit\",\"Virat\",\"Rahul\",\"Shami\",\"Bumrah\"],\n",
    "            \"Runs\":{\n",
    "                \"Rohit\":47,\n",
    "                \"Virat\":54,\n",
    "                \"Rahul\":66\n",
    "            }\n",
    "        }\n",
    "    }\n",
    "} "
   ]
  },
  {
   "cell_type": "code",
   "execution_count": 16,
   "id": "20a4fa0e-bfb8-4c4b-9599-05874e129a00",
   "metadata": {},
   "outputs": [
    {
     "data": {
      "text/plain": [
       "{'country': {'Indian Cricket Team': {'Name': ['Rohit',\n",
       "    'Virat',\n",
       "    'Rahul',\n",
       "    'Shami',\n",
       "    'Bumrah'],\n",
       "   'Runs': {'Rohit': 47, 'Virat': 54, 'Rahul': 66}}}}"
      ]
     },
     "execution_count": 16,
     "metadata": {},
     "output_type": "execute_result"
    }
   ],
   "source": [
    "sampledict"
   ]
  },
  {
   "cell_type": "code",
   "execution_count": 20,
   "id": "5122ae3e-7d3e-4df4-8c29-59f3b7f368f2",
   "metadata": {},
   "outputs": [
    {
     "name": "stdout",
     "output_type": "stream",
     "text": [
      "54\n"
     ]
    }
   ],
   "source": [
    "virat_runs=sampledict[\"country\"][\"Indian Cricket Team\"][\"Runs\"][\"Virat\"]\n",
    "print(virat_runs)"
   ]
  },
  {
   "cell_type": "code",
   "execution_count": 21,
   "id": "114e987a-d10a-4416-83e7-d110c2b8e644",
   "metadata": {},
   "outputs": [],
   "source": [
    "set1={10,20,30,40,50}"
   ]
  },
  {
   "cell_type": "code",
   "execution_count": 22,
   "id": "3dcbab2b-1da6-4b42-a8c7-1fa39ad8d805",
   "metadata": {},
   "outputs": [
    {
     "data": {
      "text/plain": [
       "{10, 20, 30, 40, 50}"
      ]
     },
     "execution_count": 22,
     "metadata": {},
     "output_type": "execute_result"
    }
   ],
   "source": [
    "set1"
   ]
  },
  {
   "cell_type": "code",
   "execution_count": 23,
   "id": "52d74a96-0df0-4187-90f7-4470a54fa5aa",
   "metadata": {},
   "outputs": [],
   "source": [
    "set2={30,40,50,60,70}"
   ]
  },
  {
   "cell_type": "code",
   "execution_count": 24,
   "id": "c7fc41e0-b4d9-4cb7-a583-68a8005be80e",
   "metadata": {},
   "outputs": [
    {
     "data": {
      "text/plain": [
       "{30, 40, 50, 60, 70}"
      ]
     },
     "execution_count": 24,
     "metadata": {},
     "output_type": "execute_result"
    }
   ],
   "source": [
    "set2"
   ]
  },
  {
   "cell_type": "code",
   "execution_count": 25,
   "id": "de02cd6a-4b0c-4f2e-9bd9-ccdfefdb7b7b",
   "metadata": {},
   "outputs": [
    {
     "name": "stdout",
     "output_type": "stream",
     "text": [
      "{40, 50, 30}\n"
     ]
    }
   ],
   "source": [
    "common_items=set1.intersection(set2)\n",
    "print(common_items)"
   ]
  },
  {
   "cell_type": "code",
   "execution_count": 26,
   "id": "29be7b50-8b3d-4c19-b23e-130ab0085682",
   "metadata": {},
   "outputs": [],
   "source": [
    "numbers=[1,2,3,4,5,6,7]"
   ]
  },
  {
   "cell_type": "code",
   "execution_count": 27,
   "id": "acec2903-f9d8-40e3-90ee-92c1f5aca3e4",
   "metadata": {},
   "outputs": [
    {
     "data": {
      "text/plain": [
       "[1, 2, 3, 4, 5, 6, 7]"
      ]
     },
     "execution_count": 27,
     "metadata": {},
     "output_type": "execute_result"
    }
   ],
   "source": [
    "numbers"
   ]
  },
  {
   "cell_type": "code",
   "execution_count": 28,
   "id": "50f75019-9f7f-4423-b28e-adc5c281657c",
   "metadata": {},
   "outputs": [
    {
     "name": "stdout",
     "output_type": "stream",
     "text": [
      "[1, 4, 9, 16, 25, 36, 49]\n"
     ]
    }
   ],
   "source": [
    "squared_numbers=[x**2 for x in numbers]\n",
    "print(squared_numbers)"
   ]
  },
  {
   "cell_type": "code",
   "execution_count": 29,
   "id": "e8256b71-59b5-49fa-9af4-178ad15bc358",
   "metadata": {},
   "outputs": [],
   "source": [
    "list1=[10,20,[300,400,[5000,6000],500],30,40]"
   ]
  },
  {
   "cell_type": "code",
   "execution_count": 30,
   "id": "d1ee701a-2917-4a46-ba12-28a27bc00001",
   "metadata": {},
   "outputs": [
    {
     "data": {
      "text/plain": [
       "[10, 20, [300, 400, [5000, 6000], 500], 30, 40]"
      ]
     },
     "execution_count": 30,
     "metadata": {},
     "output_type": "execute_result"
    }
   ],
   "source": [
    "list1"
   ]
  },
  {
   "cell_type": "code",
   "execution_count": 35,
   "id": "e928cd6f-1ada-4222-93ca-3c011cee5c51",
   "metadata": {},
   "outputs": [
    {
     "ename": "SyntaxError",
     "evalue": "invalid decimal literal (2739538972.py, line 1)",
     "output_type": "error",
     "traceback": [
      "\u001b[1;36m  Cell \u001b[1;32mIn[35], line 1\u001b[1;36m\u001b[0m\n\u001b[1;33m    def add_after(1st,target,to_add):\u001b[0m\n\u001b[1;37m                  ^\u001b[0m\n\u001b[1;31mSyntaxError\u001b[0m\u001b[1;31m:\u001b[0m invalid decimal literal\n"
     ]
    }
   ],
   "source": [
    "def add_after(1st,target,to_add):\n",
    "    for index,item in enumerate(1st):\n",
    "        if isinstance(item,list):\n",
    "            add_after(item,target,to_add)\n",
    "        elif item == target:\n",
    "            1st.insert(index+1,to_add)\n",
    "            return\n",
    "add_after(list1,6000,7000)\n",
    "print(list1)"
   ]
  },
  {
   "cell_type": "code",
   "execution_count": null,
   "id": "1c73cc03-ec61-47c7-aa9a-8afe7acb7d5e",
   "metadata": {},
   "outputs": [],
   "source": []
  }
 ],
 "metadata": {
  "kernelspec": {
   "display_name": "Python 3 (ipykernel)",
   "language": "python",
   "name": "python3"
  },
  "language_info": {
   "codemirror_mode": {
    "name": "ipython",
    "version": 3
   },
   "file_extension": ".py",
   "mimetype": "text/x-python",
   "name": "python",
   "nbconvert_exporter": "python",
   "pygments_lexer": "ipython3",
   "version": "3.11.7"
  }
 },
 "nbformat": 4,
 "nbformat_minor": 5
}
